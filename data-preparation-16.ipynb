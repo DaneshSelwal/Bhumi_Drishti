{
 "cells": [
  {
   "cell_type": "code",
   "execution_count": 1,
   "id": "26a6ee1a",
   "metadata": {
    "_cell_guid": "b1076dfc-b9ad-4769-8c92-a6c4dae69d19",
    "_uuid": "8f2839f25d086af736a60e9eeb907d3b93b6e0e5",
    "execution": {
     "iopub.execute_input": "2025-07-27T08:29:21.381943Z",
     "iopub.status.busy": "2025-07-27T08:29:21.381085Z",
     "iopub.status.idle": "2025-07-27T08:29:30.310742Z",
     "shell.execute_reply": "2025-07-27T08:29:30.309109Z"
    },
    "papermill": {
     "duration": 8.935437,
     "end_time": "2025-07-27T08:29:30.312716",
     "exception": false,
     "start_time": "2025-07-27T08:29:21.377279",
     "status": "completed"
    },
    "tags": []
   },
   "outputs": [
    {
     "name": "stdout",
     "output_type": "stream",
     "text": [
      "Collecting rasterio\r\n",
      "  Downloading rasterio-1.4.3-cp311-cp311-manylinux_2_17_x86_64.manylinux2014_x86_64.whl.metadata (9.1 kB)\r\n",
      "Collecting affine (from rasterio)\r\n",
      "  Downloading affine-2.4.0-py3-none-any.whl.metadata (4.0 kB)\r\n",
      "Requirement already satisfied: attrs in /usr/local/lib/python3.11/dist-packages (from rasterio) (25.3.0)\r\n",
      "Requirement already satisfied: certifi in /usr/local/lib/python3.11/dist-packages (from rasterio) (2025.6.15)\r\n",
      "Requirement already satisfied: click>=4.0 in /usr/local/lib/python3.11/dist-packages (from rasterio) (8.2.1)\r\n",
      "Requirement already satisfied: cligj>=0.5 in /usr/local/lib/python3.11/dist-packages (from rasterio) (0.7.2)\r\n",
      "Requirement already satisfied: numpy>=1.24 in /usr/local/lib/python3.11/dist-packages (from rasterio) (1.26.4)\r\n",
      "Requirement already satisfied: click-plugins in /usr/local/lib/python3.11/dist-packages (from rasterio) (1.1.1.2)\r\n",
      "Requirement already satisfied: pyparsing in /usr/local/lib/python3.11/dist-packages (from rasterio) (3.0.9)\r\n",
      "Requirement already satisfied: mkl_fft in /usr/local/lib/python3.11/dist-packages (from numpy>=1.24->rasterio) (1.3.8)\r\n",
      "Requirement already satisfied: mkl_random in /usr/local/lib/python3.11/dist-packages (from numpy>=1.24->rasterio) (1.2.4)\r\n",
      "Requirement already satisfied: mkl_umath in /usr/local/lib/python3.11/dist-packages (from numpy>=1.24->rasterio) (0.1.1)\r\n",
      "Requirement already satisfied: mkl in /usr/local/lib/python3.11/dist-packages (from numpy>=1.24->rasterio) (2025.2.0)\r\n",
      "Requirement already satisfied: tbb4py in /usr/local/lib/python3.11/dist-packages (from numpy>=1.24->rasterio) (2022.2.0)\r\n",
      "Requirement already satisfied: mkl-service in /usr/local/lib/python3.11/dist-packages (from numpy>=1.24->rasterio) (2.4.1)\r\n",
      "Requirement already satisfied: intel-openmp<2026,>=2024 in /usr/local/lib/python3.11/dist-packages (from mkl->numpy>=1.24->rasterio) (2024.2.0)\r\n",
      "Requirement already satisfied: tbb==2022.* in /usr/local/lib/python3.11/dist-packages (from mkl->numpy>=1.24->rasterio) (2022.2.0)\r\n",
      "Requirement already satisfied: tcmlib==1.* in /usr/local/lib/python3.11/dist-packages (from tbb==2022.*->mkl->numpy>=1.24->rasterio) (1.4.0)\r\n",
      "Requirement already satisfied: intel-cmplr-lib-rt in /usr/local/lib/python3.11/dist-packages (from mkl_umath->numpy>=1.24->rasterio) (2024.2.0)\r\n",
      "Requirement already satisfied: intel-cmplr-lib-ur==2024.2.0 in /usr/local/lib/python3.11/dist-packages (from intel-openmp<2026,>=2024->mkl->numpy>=1.24->rasterio) (2024.2.0)\r\n",
      "Downloading rasterio-1.4.3-cp311-cp311-manylinux_2_17_x86_64.manylinux2014_x86_64.whl (22.2 MB)\r\n",
      "\u001b[2K   \u001b[90m━━━━━━━━━━━━━━━━━━━━━━━━━━━━━━━━━━━━━━━━\u001b[0m \u001b[32m22.2/22.2 MB\u001b[0m \u001b[31m66.3 MB/s\u001b[0m eta \u001b[36m0:00:00\u001b[0m\r\n",
      "\u001b[?25hDownloading affine-2.4.0-py3-none-any.whl (15 kB)\r\n",
      "Installing collected packages: affine, rasterio\r\n",
      "Successfully installed affine-2.4.0 rasterio-1.4.3\r\n",
      "Note: you may need to restart the kernel to use updated packages.\n"
     ]
    }
   ],
   "source": [
    "pip install rasterio"
   ]
  },
  {
   "cell_type": "code",
   "execution_count": 2,
   "id": "0150663b",
   "metadata": {
    "execution": {
     "iopub.execute_input": "2025-07-27T08:29:30.321230Z",
     "iopub.status.busy": "2025-07-27T08:29:30.320806Z",
     "iopub.status.idle": "2025-07-27T08:41:25.185283Z",
     "shell.execute_reply": "2025-07-27T08:41:25.184001Z"
    },
    "papermill": {
     "duration": 714.870946,
     "end_time": "2025-07-27T08:41:25.187391",
     "exception": false,
     "start_time": "2025-07-27T08:29:30.316445",
     "status": "completed"
    },
    "tags": []
   },
   "outputs": [
    {
     "name": "stderr",
     "output_type": "stream",
     "text": [
      "Processing Images: 100%|██████████| 27597/27597 [11:54<00:00, 38.65it/s]"
     ]
    },
    {
     "name": "stdout",
     "output_type": "stream",
     "text": [
      "Done! All images have been center-cropped to 16x16 and saved to /kaggle/working/EuroSATallBands_16x16\n"
     ]
    },
    {
     "name": "stderr",
     "output_type": "stream",
     "text": [
      "\n"
     ]
    }
   ],
   "source": [
    "import os\n",
    "import rasterio\n",
    "from tqdm import tqdm\n",
    "\n",
    "# Paths\n",
    "input_root = '/kaggle/input/eurosat-dataset/EuroSATallBands'\n",
    "output_root = '/kaggle/working/EuroSATallBands_16x16'\n",
    "\n",
    "orig_size = 64\n",
    "clip_size = 16\n",
    "start = (orig_size - clip_size) // 2\n",
    "end = start + clip_size\n",
    "\n",
    "os.makedirs(output_root, exist_ok=True)\n",
    "\n",
    "# First, count total files\n",
    "all_files = []\n",
    "for class_folder in os.listdir(input_root):\n",
    "    class_input_path = os.path.join(input_root, class_folder)\n",
    "    if not os.path.isdir(class_input_path):\n",
    "        continue\n",
    "    for img_name in os.listdir(class_input_path):\n",
    "        if img_name.lower().endswith('.tif'):\n",
    "            all_files.append((class_folder, img_name))\n",
    "total_files = len(all_files)\n",
    "\n",
    "# Single progress bar for all files\n",
    "for class_folder, img_name in tqdm(all_files, total=total_files, desc=\"Processing Images\"):\n",
    "    class_input_path = os.path.join(input_root, class_folder)\n",
    "    class_output_path = os.path.join(output_root, class_folder)\n",
    "    os.makedirs(class_output_path, exist_ok=True)\n",
    "    img_path = os.path.join(class_input_path, img_name)\n",
    "    with rasterio.open(img_path) as src:\n",
    "        img = src.read()  # Shape: (bands, 64, 64)\n",
    "        clipped_img = img[:, start:end, start:end]\n",
    "        meta = src.meta.copy()\n",
    "        meta.update({'height': clip_size, 'width': clip_size, 'transform': rasterio.windows.transform(rasterio.windows.Window(start, start, clip_size, clip_size), src.transform)})\n",
    "        save_path = os.path.join(class_output_path, img_name)\n",
    "        with rasterio.open(save_path, 'w', **meta) as dst:\n",
    "            dst.write(clipped_img)\n",
    "\n",
    "print(\"Done! All images have been center-cropped to 16x16 and saved to\", output_root)"
   ]
  },
  {
   "cell_type": "code",
   "execution_count": 3,
   "id": "98baba04",
   "metadata": {
    "execution": {
     "iopub.execute_input": "2025-07-27T08:41:25.851156Z",
     "iopub.status.busy": "2025-07-27T08:41:25.850654Z",
     "iopub.status.idle": "2025-07-27T08:41:39.316065Z",
     "shell.execute_reply": "2025-07-27T08:41:39.314415Z"
    },
    "papermill": {
     "duration": 13.799726,
     "end_time": "2025-07-27T08:41:39.318249",
     "exception": false,
     "start_time": "2025-07-27T08:41:25.518523",
     "status": "completed"
    },
    "tags": []
   },
   "outputs": [
    {
     "name": "stdout",
     "output_type": "stream",
     "text": [
      "Folder zipped successfully!\n"
     ]
    }
   ],
   "source": [
    "import shutil\n",
    "\n",
    "# Define folder to zip and zip file name\n",
    "folder_to_zip = '/kaggle/working/EuroSATallBands_16x16'\n",
    "shutil.make_archive(folder_to_zip, 'zip', folder_to_zip)\n",
    "print('Folder zipped successfully!')"
   ]
  },
  {
   "cell_type": "code",
   "execution_count": 4,
   "id": "db71d22d",
   "metadata": {
    "execution": {
     "iopub.execute_input": "2025-07-27T08:41:40.127679Z",
     "iopub.status.busy": "2025-07-27T08:41:40.126957Z",
     "iopub.status.idle": "2025-07-27T08:41:40.135381Z",
     "shell.execute_reply": "2025-07-27T08:41:40.134164Z"
    },
    "papermill": {
     "duration": 0.458502,
     "end_time": "2025-07-27T08:41:40.138128",
     "exception": false,
     "start_time": "2025-07-27T08:41:39.679626",
     "status": "completed"
    },
    "tags": []
   },
   "outputs": [
    {
     "data": {
      "text/html": [
       "<a href='/kaggle/working/EuroSATallBands_16x16.zip' target='_blank'>/kaggle/working/EuroSATallBands_16x16.zip</a><br>"
      ],
      "text/plain": [
       "/kaggle/working/EuroSATallBands_16x16.zip"
      ]
     },
     "execution_count": 4,
     "metadata": {},
     "output_type": "execute_result"
    }
   ],
   "source": [
    "from IPython.display import FileLink\n",
    "FileLink('/kaggle/working/EuroSATallBands_16x16.zip')"
   ]
  },
  {
   "cell_type": "code",
   "execution_count": null,
   "id": "0be330ea",
   "metadata": {
    "papermill": {
     "duration": 0.354621,
     "end_time": "2025-07-27T08:41:40.876191",
     "exception": false,
     "start_time": "2025-07-27T08:41:40.521570",
     "status": "completed"
    },
    "tags": []
   },
   "outputs": [],
   "source": []
  }
 ],
 "metadata": {
  "kaggle": {
   "accelerator": "none",
   "dataSources": [
    {
     "datasetId": 918039,
     "sourceId": 1663377,
     "sourceType": "datasetVersion"
    }
   ],
   "dockerImageVersionId": 31089,
   "isGpuEnabled": false,
   "isInternetEnabled": true,
   "language": "python",
   "sourceType": "notebook"
  },
  "kernelspec": {
   "display_name": "Python 3",
   "language": "python",
   "name": "python3"
  },
  "language_info": {
   "codemirror_mode": {
    "name": "ipython",
    "version": 3
   },
   "file_extension": ".py",
   "mimetype": "text/x-python",
   "name": "python",
   "nbconvert_exporter": "python",
   "pygments_lexer": "ipython3",
   "version": "3.11.13"
  },
  "papermill": {
   "default_parameters": {},
   "duration": 746.957965,
   "end_time": "2025-07-27T08:41:41.725557",
   "environment_variables": {},
   "exception": null,
   "input_path": "__notebook__.ipynb",
   "output_path": "__notebook__.ipynb",
   "parameters": {},
   "start_time": "2025-07-27T08:29:14.767592",
   "version": "2.6.0"
  }
 },
 "nbformat": 4,
 "nbformat_minor": 5
}
